{
 "cells": [
  {
   "cell_type": "markdown",
   "metadata": {},
   "source": [
    "# MCRL for article"
   ]
  },
  {
   "cell_type": "code",
   "execution_count": 39,
   "metadata": {},
   "outputs": [],
   "source": [
    "import numpy as np\n",
    "import random\n",
    "import math \n",
    "from collections import defaultdict"
   ]
  },
  {
   "cell_type": "code",
   "execution_count": 40,
   "metadata": {},
   "outputs": [],
   "source": [
    "z = 10 #Degradation threshold\n",
    "\n",
    "def state(amount):\n",
    "    new_state = []    \n",
    "    if (amount >= 0 and amount <2):\n",
    "        new_state = 0 # healthy1\n",
    "    \n",
    "    if (amount >= 2 and amount <7):\n",
    "        new_state = 1 # healthy2\n",
    "        \n",
    "    if (amount >= 7 and amount < z ):\n",
    "        new_state = 2 #healthy3 \n",
    "        \n",
    "    if (amount >= z):\n",
    "        new_state = 3 # fail\n",
    "    \n",
    "    return new_state"
   ]
  },
  {
   "cell_type": "code",
   "execution_count": 41,
   "metadata": {},
   "outputs": [],
   "source": [
    "def Rewardfun(degradation):\n",
    "    Reward=np.zeros((4,)+(3,))\n",
    "    Reward[: , 0] = -50\n",
    "    Reward[3,0] = -1050\n",
    "    Reward[: , 1] = -500*(degradation/z)-50\n",
    "    Reward[3,1] = -1150\n",
    "    Reward[: , 2] = -550\n",
    "    Reward[3,2] = -1550\n",
    "       \n",
    "    return Reward"
   ]
  },
  {
   "cell_type": "code",
   "execution_count": 42,
   "metadata": {},
   "outputs": [],
   "source": [
    "def possible_action(state):\n",
    "    if state == 0 :\n",
    "        return [0,1]\n",
    "    if state == 1 :\n",
    "        return [0,1,2]\n",
    "    if state == 2:\n",
    "        return [0,1,2]\n",
    "    if state == 3:\n",
    "        return [2]"
   ]
  },
  {
   "cell_type": "code",
   "execution_count": 43,
   "metadata": {},
   "outputs": [
    {
     "data": {
      "text/plain": [
       "[2]"
      ]
     },
     "execution_count": 43,
     "metadata": {},
     "output_type": "execute_result"
    }
   ],
   "source": [
    "possible_action(3)"
   ]
  },
  {
   "cell_type": "code",
   "execution_count": 70,
   "metadata": {},
   "outputs": [],
   "source": [
    "a = 8\n",
    "\n",
    "def Envirenment(degradation , action):\n",
    "   \n",
    "    n2 = np.random.poisson((1-0.001)*4, 1) # number of effective shock\n",
    "    w2 = np.random.gamma(0.6, 1.2, n2) # magnitude of effective shock\n",
    "    magnitude = sum(w2)\n",
    "    next_state = 0\n",
    "    reward = 0\n",
    "    \n",
    "    if action == 0 :#do nothing\n",
    "        \n",
    "            degradation += (magnitude + 3)/a\n",
    "            next_state=state(degradation)\n",
    "            Reward=Rewardfun(degradation)\n",
    "            reward=Reward[next_state,action]\n",
    "        \n",
    "    if action == 1 : #repair\n",
    "        \n",
    "           # decay = degradation*np.random.beta(0.5, 1, 1)\n",
    "            #decay = degradation/z\n",
    "            #degradation -= decay*degradation\n",
    "            degradation = np.max((0.05, degradation))\n",
    "            decay =(np.random.gamma(degradation*degradation/2,2/(degradation),1)/z)[0]\n",
    "            degradation -= np.max((0, decay*degradation))\n",
    "            degradation = np.max((0.05, degradation))\n",
    "            degradation += (magnitude + 2.95)/a\n",
    "            next_state=state(degradation)\n",
    "            Reward=Rewardfun(degradation)\n",
    "            reward=Reward[next_state,action]\n",
    "                    \n",
    "    if action == 2 : # replace\n",
    "        \n",
    "            degradation = (magnitude + 2.85)/a\n",
    "            next_state=state(degradation)\n",
    "            Reward=Rewardfun(degradation)\n",
    "            reward=Reward[next_state,action]\n",
    "       \n",
    "    \n",
    "    return next_state , reward , degradation\n"
   ]
  },
  {
   "cell_type": "code",
   "execution_count": 79,
   "metadata": {},
   "outputs": [
    {
     "data": {
      "text/plain": [
       "(0, -147.53000894663182, 1.9506001789326366)"
      ]
     },
     "execution_count": 79,
     "metadata": {},
     "output_type": "execute_result"
    }
   ],
   "source": [
    "Envirenment(6.929383290900782 , 1)"
   ]
  },
  {
   "cell_type": "markdown",
   "metadata": {},
   "source": [
    "# pi function "
   ]
  },
  {
   "cell_type": "code",
   "execution_count": 45,
   "metadata": {},
   "outputs": [],
   "source": [
    "def policy_using_pi(state, pi):\n",
    "    return np.random.choice(possible_action(state), p=[pi[(state,a)] for a in possible_action(state)])"
   ]
  },
  {
   "cell_type": "code",
   "execution_count": 46,
   "metadata": {},
   "outputs": [],
   "source": [
    "#np.zeros((4,3))\n",
    "#np.array([[0.5,0.5,0],[0.33,0.34,0.33],[0.33,0.33,0.34],[0,0,1]])\n",
    "pi = np.array([[0.7,0.3,0],[0.34,0.33,0.33],[0.33,0.34,0.33],[0,0,1]])"
   ]
  },
  {
   "cell_type": "code",
   "execution_count": 47,
   "metadata": {},
   "outputs": [
    {
     "data": {
      "text/plain": [
       "0"
      ]
     },
     "execution_count": 47,
     "metadata": {},
     "output_type": "execute_result"
    }
   ],
   "source": [
    "policy_using_pi(0, pi)"
   ]
  },
  {
   "cell_type": "code",
   "execution_count": 48,
   "metadata": {},
   "outputs": [],
   "source": [
    "def choose_action(current_state, pi):\n",
    "    return policy_using_pi(current_state, pi)  #epsilon_soft       "
   ]
  },
  {
   "cell_type": "markdown",
   "metadata": {},
   "source": [
    "# Episode Function"
   ]
  },
  {
   "cell_type": "code",
   "execution_count": 49,
   "metadata": {},
   "outputs": [],
   "source": [
    "GAMMA =  0.9\n",
    "def play_episode(pi):\n",
    "    #S0,A0,R1,S1,A1,R2,S2,A2,R3 ,...\n",
    "    s = 0 #it is new\n",
    "    d = 0 #it is new\n",
    "    a= choose_action(s, pi)\n",
    "    \n",
    "    #r(t) results from taking action a(t-1) from s(t-1) and landing in s(t)\n",
    "    states_actions_rewards = [((s, a, 0))]\n",
    "    \n",
    "    for j in range(200 +1):\n",
    "    \n",
    "        s , r ,d  = Envirenment(d,a)\n",
    "        if (j == 200):\n",
    "            states_actions_rewards.append((s, None, r))\n",
    "        else:\n",
    "            a= choose_action(s, pi)\n",
    "            states_actions_rewards.append((s,a, r))\n",
    "            \n",
    "    \n",
    "     # calculate the returns by working backwards from the terminal state\n",
    "    G = 0\n",
    "    states_actions_returns = []\n",
    "    first = True\n",
    "    for s, a, r in reversed(states_actions_rewards):\n",
    "        \n",
    "       # the value of the terminal state is 0 by definition\n",
    "       # we should ignore the first state we encounter\n",
    "        # and ignore the last G, which is meaningless since it doesn't correspond to any move\n",
    "        if first:\n",
    "            first = False\n",
    "        else:\n",
    "            states_actions_returns.append((s, a, G))\n",
    "        G = r + GAMMA*G\n",
    "    \n",
    "    return states_actions_returns \n"
   ]
  },
  {
   "cell_type": "code",
   "execution_count": 50,
   "metadata": {},
   "outputs": [],
   "source": [
    "GAMMA =  0.9\n",
    "def play_episode_F(pi):\n",
    "    #S0,A0,R1,S1,A1,R2,S2,A2,R3 ,...\n",
    "    s = 0 #it is new\n",
    "    d = 0 #it is new\n",
    "    a= choose_action(s, pi)\n",
    "    \n",
    "    #r(t) results from taking action a(t-1) from s(t-1) and landing in s(t)\n",
    "    states_actions_rewards = [((s, a, 0))]\n",
    "    \n",
    "    while not s == 3:\n",
    "    \n",
    "        s , r ,d  = Envirenment(d,a)\n",
    "        if (s == 3):\n",
    "            states_actions_rewards.append((s, None, r))\n",
    "        else:\n",
    "            a= choose_action(s, pi)\n",
    "            states_actions_rewards.append((s,a, r))\n",
    "            \n",
    "    \n",
    "     # calculate the returns by working backwards from the terminal state\n",
    "    G = 0\n",
    "    states_actions_returns = []\n",
    "    first = True\n",
    "    for s, a, r in reversed(states_actions_rewards):\n",
    "        \n",
    "       # the value of the terminal state is 0 by definition\n",
    "       # we should ignore the first state we encounter\n",
    "        # and ignore the last G, which is meaningless since it doesn't correspond to any move\n",
    "        if first:\n",
    "            first = False\n",
    "        else:\n",
    "            states_actions_returns.append((s, a, G))\n",
    "        G = r + GAMMA*G\n",
    "    \n",
    "    return states_actions_returns \n"
   ]
  },
  {
   "cell_type": "code",
   "execution_count": 51,
   "metadata": {},
   "outputs": [],
   "source": [
    "#pi = np.array([[0.99,0.01,0],[0.34,0.33,0.33],[0.33,0.34,0.33],[0,0,1]])\n",
    "#play_episode_F(pi)"
   ]
  },
  {
   "cell_type": "code",
   "execution_count": 52,
   "metadata": {},
   "outputs": [],
   "source": [
    "#print(np.full((4,3), 0.5)) \n",
    "#print(np.zeros((4, ) + (3,)))"
   ]
  },
  {
   "cell_type": "markdown",
   "metadata": {},
   "source": [
    "# Run all episodes"
   ]
  },
  {
   "cell_type": "code",
   "execution_count": 53,
   "metadata": {},
   "outputs": [
    {
     "name": "stderr",
     "output_type": "stream",
     "text": [
      "C:\\Users\\ARYA\\AppData\\Local\\Temp\\ipykernel_1788\\6110552.py:13: RuntimeWarning: divide by zero encountered in double_scalars\n",
      "  degradation += (magnitude + 3)/a\n",
      "C:\\Users\\ARYA\\AppData\\Local\\Temp\\ipykernel_1788\\6110552.py:34: RuntimeWarning: divide by zero encountered in double_scalars\n",
      "  degradation = (magnitude + 2.85)/a\n",
      "C:\\Users\\ARYA\\AppData\\Local\\Temp\\ipykernel_1788\\6110552.py:34: RuntimeWarning: divide by zero encountered in true_divide\n",
      "  degradation = (magnitude + 2.85)/a\n"
     ]
    }
   ],
   "source": [
    "epsilon = 1\n",
    "learning_rate = 1\n",
    "pi = np.array([[0.99,0.01,0],[0.34,0.33,0.33],[0.33,0.34,0.33],[0,0,1]])\n",
    "Q = np.zeros((4, ) + (3,))\n",
    "old_Q = 0 \n",
    "\n",
    "Q[3,0]= -100000000\n",
    "Q[3,1]= -100000000\n",
    "Q[0,2]= -100000000\n",
    "\n",
    "returns =np.zeros((4,) + (3,))\n",
    "N = np.zeros((4 ,) + (3,))\n",
    "\n",
    "deltas = []\n",
    "\n",
    "\n",
    "for epi in range(900 +1):# Looping through episodes \n",
    "    \n",
    "    # generate an episode using pi\n",
    "    biggest_change = 0\n",
    "    states_actions_returns = play_episode(pi)\n",
    "    \n",
    "    seen_state_action_pairs = set()\n",
    "    for s, a, G in states_actions_returns:\n",
    "        # check if we have already seen s\n",
    "        # called \"first-visit\" MC policy evaluation\n",
    "    \n",
    "        state_action = (s,a)\n",
    "        \n",
    "        if state_action not in seen_state_action_pairs:\n",
    "            \n",
    "            returns[s][a] += G\n",
    "            N[s][a] +=1\n",
    "            old_Q = Q[s][a]    \n",
    "            Q[s][a] = returns[s][a] /N[s][a] # Average reward across episodes\n",
    "            \n",
    "            biggest_change = max(biggest_change, np.abs(old_Q - Q[s][a]))\n",
    "            seen_state_action_pairs.add(state_action)\n",
    "              \n",
    "            #for each s in the episode         \n",
    "            A_star = np.argmax(Q[s])# Finding the action with maximum value \n",
    "            \n",
    "            for a in possible_action(s): # Update action probability \n",
    "                if a == A_star:\n",
    "                    pi[(s,a)] = 1 - epsilon + (epsilon / len(possible_action(s)))\n",
    "                else:\n",
    "                    pi[(s,a)] = (epsilon / len(possible_action(s)))\n",
    "                     \n",
    "    \n",
    "    learning_rate *= 0.99\n",
    "    epsilon *= 0.99               \n",
    "    deltas.append(biggest_change)\n",
    "                  "
   ]
  },
  {
   "cell_type": "code",
   "execution_count": 54,
   "metadata": {},
   "outputs": [
    {
     "name": "stdout",
     "output_type": "stream",
     "text": [
      "[[-5.34699577e+03 -5.87854661e+03 -1.00000000e+08]\n",
      " [-1.17543988e+03 -4.61048720e+03 -4.52816320e+03]\n",
      " [-5.34527466e+03 -1.92191800e+03 -4.88799750e+03]\n",
      " [-1.00000000e+08 -1.00000000e+08 -1.13787914e+03]]\n",
      "[[9.99941028e-01 5.89719029e-05 0.00000000e+00]\n",
      " [9.99921371e-01 3.93146020e-05 3.93146020e-05]\n",
      " [3.93146020e-05 9.99921371e-01 3.93146020e-05]\n",
      " [0.00000000e+00 0.00000000e+00 1.00000000e+00]]\n"
     ]
    }
   ],
   "source": [
    "print (Q)\n",
    "print(pi)"
   ]
  },
  {
   "cell_type": "code",
   "execution_count": 55,
   "metadata": {},
   "outputs": [
    {
     "data": {
      "image/png": "[encoded data removed]",
      "text/plain": [
       "<Figure size 640x480 with 1 Axes>"
      ]
     },
     "metadata": {},
     "output_type": "display_data"
    }
   ],
   "source": [
    "import matplotlib.pyplot as plt\n",
    "plt.plot(deltas)\n",
    "plt.show()"
   ]
  },
  {
   "cell_type": "code",
   "execution_count": 81,
   "metadata": {},
   "outputs": [],
   "source": [
    "a = 8\n",
    "\n",
    "def Envirenment(degradation , action):\n",
    "   \n",
    "    n2 = np.random.poisson((1-0.001)*4, 1) # number of effective shock\n",
    "    w2 = np.random.gamma(0.6, 1.2, n2) # magnitude of effective shock\n",
    "    magnitude = sum(w2)\n",
    "    next_state = 0\n",
    "    reward = 0\n",
    "    \n",
    "    if action == 0 :#do nothing\n",
    "        \n",
    "            degradation += (magnitude + 3)/a\n",
    "            next_state=state(degradation)\n",
    "            Reward=Rewardfun(degradation)\n",
    "            reward=Reward[next_state,action]\n",
    "        \n",
    "    if action == 1 : #repair\n",
    "        \n",
    "           # decay = degradation*np.random.beta(0.5, 1, 1)\n",
    "            #decay = degradation/z\n",
    "            #degradation -= decay*degradation\n",
    "            degradation = np.max((0.05, degradation))\n",
    "            decay =(np.random.gamma(degradation*degradation/2,2/(degradation),1)/z)[0]\n",
    "            degradation -= np.max((0, decay*degradation))\n",
    "            degradation = np.max((0.05, degradation))\n",
    "            degradation += (magnitude + 2.95)/a\n",
    "            next_state=state(degradation)\n",
    "            Reward=Rewardfun(degradation)\n",
    "            reward=Reward[next_state,action]\n",
    "                    \n",
    "    if action == 2 : # replace\n",
    "        \n",
    "            degradation = (magnitude + 2.85)/a\n",
    "            next_state=state(degradation)\n",
    "            Reward=Rewardfun(degradation)\n",
    "            reward=Reward[next_state,action]\n",
    "       \n",
    "    \n",
    "    return next_state , reward , degradation\n"
   ]
  },
  {
   "cell_type": "code",
   "execution_count": 82,
   "metadata": {},
   "outputs": [
    {
     "name": "stdout",
     "output_type": "stream",
     "text": [
      "degradation =0 action0 Reward-50.0 new degradation =1.4837546956997056\n",
      "degradation =1.4837546956997056 action0 Reward-50.0 new degradation =2.1616965382246747\n",
      "degradation =2.1616965382246747 action0 Reward-50.0 new degradation =2.6351009960200407\n",
      "degradation =2.6351009960200407 action0 Reward-50.0 new degradation =3.3606036540892648\n",
      "degradation =3.3606036540892648 action0 Reward-50.0 new degradation =4.304430130618588\n",
      "degradation =4.304430130618588 action0 Reward-50.0 new degradation =5.07622573755917\n",
      "degradation =5.07622573755917 action0 Reward-50.0 new degradation =6.245629101685738\n",
      "degradation =6.245629101685738 action0 Reward-50.0 new degradation =6.720801886607862\n",
      "degradation =6.720801886607862 action0 Reward-50.0 new degradation =7.145086602316304\n",
      "degradation =7.145086602316304 action1 Reward-224.24134172129467 new degradation =3.4848268344258937\n",
      "degradation =3.4848268344258937 action0 Reward-50.0 new degradation =4.078019130345132\n",
      "degradation =4.078019130345132 action0 Reward-50.0 new degradation =5.019405063031835\n",
      "degradation =5.019405063031835 action0 Reward-50.0 new degradation =5.561998013015133\n",
      "degradation =5.561998013015133 action0 Reward-50.0 new degradation =6.0503874375815085\n",
      "degradation =6.0503874375815085 action0 Reward-50.0 new degradation =7.161802213130484\n",
      "degradation =7.161802213130484 action1 Reward-175.87606520890137 new degradation =2.5175213041780276\n",
      "degradation =2.5175213041780276 action0 Reward-50.0 new degradation =2.916907675240385\n",
      "degradation =2.916907675240385 action0 Reward-50.0 new degradation =3.5671661195190136\n",
      "degradation =3.5671661195190136 action0 Reward-50.0 new degradation =4.320443448080627\n",
      "degradation =4.320443448080627 action0 Reward-50.0 new degradation =5.333514323844904\n",
      "degradation =5.333514323844904 action0 Reward-50.0 new degradation =6.400256056879106\n",
      "optimal degradation for repair= 7.153444407723394\n",
      "cost for repair = 69.20173918680652\n",
      "Time for repair = 18.0\n"
     ]
    }
   ],
   "source": [
    "optimal_value =[]\n",
    "current_state = 0 #it is new\n",
    "degradation = 0\n",
    "optimal_cost = []\n",
    "expected_optimal_cost=[]\n",
    "num=[]\n",
    "numm =[]\n",
    "\n",
    "        \n",
    "for j in range(20+1):\n",
    "    #Choose A from S\n",
    "    action = np.argmax(Q[current_state])\n",
    "    if action == 1:\n",
    "        optimal_value.append(degradation) \n",
    "        num.append(j)\n",
    "    \n",
    "    numm =[3*num[i] - 3*num[i-1] for i in range(1, len(num))]\n",
    "    #print(num , numm)\n",
    "    # Take action\n",
    "    current_state, reward ,degradation_new = Envirenment(degradation,action)\n",
    "    optimal_cost.append(-reward)\n",
    "    print (\"degradation =\" + str(degradation), \"action\"+ str(action),\n",
    "          \"Reward\"+str(reward), \"new degradation =\" + str(degradation_new))\n",
    "    degradation = degradation_new\n",
    "    #print(optimal_cost)\n",
    "    #if any(np.array(optimal_cost) > 50) and any(np.array(optimal_cost) < 550) :\n",
    "        #expected_optimal_cost.append(np.mean(optimal_cost))\n",
    "    if any(np.array(optimal_cost) > 50):\n",
    "        expected_optimal_cost.append(np.mean(optimal_cost))\n",
    "    if action ==1:\n",
    "        optimal_cost = []\n",
    "    \n",
    "    \n",
    "#print(optimal_value)\n",
    "#print(\".................\")\n",
    "#print(expected_optimal_cost)\n",
    "#print(\".................\")\n",
    "print(\"optimal degradation for repair=\",np.mean(optimal_value))\n",
    "#print(\".................\")\n",
    "print(\"cost for repair =\",np.mean(expected_optimal_cost))\n",
    "print(\"Time for repair =\",np.mean(numm))\n",
    "#print(\"Time for repair =\",numm)"
   ]
  },
  {
   "cell_type": "code",
   "execution_count": null,
   "metadata": {},
   "outputs": [],
   "source": []
  },
  {
   "cell_type": "code",
   "execution_count": null,
   "metadata": {},
   "outputs": [],
   "source": []
  }
 ],
 "metadata": {
  "kernelspec": {
   "display_name": "Python 3 (ipykernel)",
   "language": "python",
   "name": "python3"
  },
  "language_info": {
   "codemirror_mode": {
    "name": "ipython",
    "version": 3
   },
   "file_extension": ".py",
   "mimetype": "text/x-python",
   "name": "python",
   "nbconvert_exporter": "python",
   "pygments_lexer": "ipython3",
   "version": "3.9.13"
  },
  "vscode": {
   "interpreter": {
    "hash": "8999327e7e2997f68438cd77e0c9ace3aff82d5b791acf940d464c01e065e5bb"
   }
  }
 },
 "nbformat": 4,
 "nbformat_minor": 2
}
