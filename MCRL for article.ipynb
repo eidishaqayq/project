{
 "cells": [
  {
   "cell_type": "markdown",
   "metadata": {},
   "source": [
    "# MCRL for article"
   ]
  },
  {
   "cell_type": "code",
   "execution_count": 1,
   "metadata": {},
   "outputs": [],
   "source": [
    "import numpy as np\n",
    "import random\n",
    "from random import sample\n",
    "import math \n",
    "from collections import defaultdict"
   ]
  },
  {
   "cell_type": "code",
   "execution_count": 2,
   "metadata": {},
   "outputs": [],
   "source": [
    "z = 10 #Degradation threshold\n",
    "\n",
    "def state(amount):\n",
    "    new_state = []    \n",
    "    if (amount >= 0 and amount <3):\n",
    "        new_state = 0 # healthy1\n",
    "    \n",
    "    if (amount >= 3 and amount <7):\n",
    "        new_state = 1 # healthy2\n",
    "        \n",
    "    if (amount >= 7 and amount < z ):\n",
    "        new_state = 2 #healthy3 \n",
    "        \n",
    "    if (amount >= z):\n",
    "        new_state = 3 # fail\n",
    "    \n",
    "    return new_state"
   ]
  },
  {
   "cell_type": "code",
   "execution_count": 3,
   "metadata": {},
   "outputs": [],
   "source": [
    "def Rewardfun(degradation):\n",
    "    Reward=np.zeros((4,)+(3,))\n",
    "    Reward[: , 0] = -50\n",
    "    Reward[3,0] = -1050\n",
    "    Reward[: , 1] = -500*(degradation/z)-50\n",
    "    Reward[3,1] = -1150\n",
    "    Reward[: , 2] = -550\n",
    "    Reward[3,2] = -1550\n",
    "       \n",
    "    return Reward"
   ]
  },
  {
   "cell_type": "code",
   "execution_count": 4,
   "metadata": {},
   "outputs": [],
   "source": [
    "a = 8\n",
    "\n",
    "def Envirenment(degradation , action):\n",
    "   \n",
    "    n2 = np.random.poisson((1-0.001)*4, 1) # number of effective shock\n",
    "    w2 = np.random.gamma(0.6, 1.2, n2) # magnitude of effective shock\n",
    "    magnitude = sum(w2)\n",
    "    next_state = 0\n",
    "    reward = 0\n",
    "    \n",
    "    if action == 0 :#do nothing\n",
    "        \n",
    "            degradation += (magnitude + 3)/a\n",
    "            next_state=state(degradation)\n",
    "            Reward=Rewardfun(degradation)\n",
    "            reward=Reward[next_state,action]\n",
    "        \n",
    "    if action == 1 : #repair\n",
    "        \n",
    "           # decay = degradation*np.random.beta(0.5, 1, 1)\n",
    "            #decay = degradation/z\n",
    "            #degradation -= decay*degradation\n",
    "            degradation = np.max((0.05, degradation))\n",
    "            decay =(np.random.gamma(degradation*degradation/2,2/(degradation),1)/z)[0]\n",
    "            degradation -= np.max((0, decay*degradation))\n",
    "            degradation = np.max((0.05, degradation))\n",
    "            degradation += (magnitude + 2.95)/a\n",
    "            next_state=state(degradation)\n",
    "            Reward=Rewardfun(degradation)\n",
    "            reward=Reward[next_state,action]\n",
    "                    \n",
    "    if action == 2 : # replace\n",
    "        \n",
    "            degradation = (magnitude + 2.85)/a\n",
    "            next_state=state(degradation)\n",
    "            Reward=Rewardfun(degradation)\n",
    "            reward=Reward[next_state,action]\n",
    "       \n",
    "    \n",
    "    return next_state , reward , degradation\n"
   ]
  },
  {
   "cell_type": "markdown",
   "metadata": {},
   "source": [
    "# pi function "
   ]
  },
  {
   "cell_type": "code",
   "execution_count": 5,
   "metadata": {},
   "outputs": [],
   "source": [
    "ALL_POSSIBLE_ACTIONS = [0,1,2]\n",
    "def policy_using_pi(St, pi):\n",
    "    return np.random.choice(ALL_POSSIBLE_ACTIONS, p=[pi[(St,a)] for a in ALL_POSSIBLE_ACTIONS])"
   ]
  },
  {
   "cell_type": "code",
   "execution_count": 6,
   "metadata": {},
   "outputs": [],
   "source": [
    "def choose_action(current_state, pi):\n",
    "    if current_state == 3 :\n",
    "        return 2 #replace\n",
    "    else:\n",
    "        return policy_using_pi(current_state, pi)  #epsilon_soft       "
   ]
  },
  {
   "cell_type": "markdown",
   "metadata": {},
   "source": [
    "# Episode Function"
   ]
  },
  {
   "cell_type": "code",
   "execution_count": 15,
   "metadata": {},
   "outputs": [],
   "source": [
    "GAMMA =  0.9\n",
    "def play_episode(pi):\n",
    "    #S0,A0,R1,S1,A1,R2,S2,A2,R3 ,...\n",
    "    s = 0 #it is new\n",
    "    d = 0 #it is new\n",
    "    a= choose_action(s, pi)\n",
    "    \n",
    "    #r(t) results from taking action a(t-1) from s(t-1) and landing in s(t)\n",
    "    states_actions_rewards = [((s, a, 0))]\n",
    "    \n",
    "    for j in range(100 +1):\n",
    "    \n",
    "        s , r ,d  = Envirenment(d,a)\n",
    "        if (j == 100):\n",
    "            states_actions_rewards.append((s, None, r))\n",
    "        else:\n",
    "            a= choose_action(s, pi)\n",
    "            states_actions_rewards.append((s,a, r))\n",
    "            \n",
    "    \n",
    "     # calculate the returns by working backwards from the terminal state\n",
    "    G = 0\n",
    "    states_actions_returns = []\n",
    "    first = True\n",
    "    for s, a, r in reversed(states_actions_rewards):\n",
    "        \n",
    "       # the value of the terminal state is 0 by definition\n",
    "       # we should ignore the first state we encounter\n",
    "        # and ignore the last G, which is meaningless since it doesn't correspond to any move\n",
    "        if first:\n",
    "            first = False\n",
    "        else:\n",
    "            states_actions_returns.append((s, a, G))\n",
    "        G = r + GAMMA*G\n",
    "    \n",
    "    return states_actions_returns \n"
   ]
  },
  {
   "cell_type": "markdown",
   "metadata": {},
   "source": [
    "# Run all episodes"
   ]
  },
  {
   "cell_type": "code",
   "execution_count": 17,
   "metadata": {},
   "outputs": [
    {
     "name": "stderr",
     "output_type": "stream",
     "text": [
      "C:\\Users\\ARYA\\Anaconda3\\lib\\site-packages\\ipykernel_launcher.py:13: RuntimeWarning: divide by zero encountered in double_scalars\n",
      "  del sys.path[0]\n",
      "C:\\Users\\ARYA\\Anaconda3\\lib\\site-packages\\ipykernel_launcher.py:34: RuntimeWarning: divide by zero encountered in double_scalars\n",
      "C:\\Users\\ARYA\\Anaconda3\\lib\\site-packages\\ipykernel_launcher.py:34: RuntimeWarning: divide by zero encountered in true_divide\n",
      "C:\\Users\\ARYA\\Anaconda3\\lib\\site-packages\\ipykernel_launcher.py:27: RuntimeWarning: divide by zero encountered in double_scalars\n",
      "C:\\Users\\ARYA\\Anaconda3\\lib\\site-packages\\ipykernel_launcher.py:27: RuntimeWarning: divide by zero encountered in true_divide\n"
     ]
    }
   ],
   "source": [
    "epsilon = 1\n",
    "learning_rate = 1\n",
    "pi = defaultdict(lambda: 1/len(ALL_POSSIBLE_ACTIONS))\n",
    "Q = np.zeros((4, ) + (3,))\n",
    "old_Q = 0 \n",
    "\n",
    "Q[3,0]= -100000000\n",
    "Q[3,1]= -100000000\n",
    "\n",
    "returns =np.zeros((4,) + (3,))\n",
    "N = np.zeros((4 ,) + (3,))\n",
    "\n",
    "deltas = []\n",
    "\n",
    "\n",
    "for epi in range(500 +1):# Looping through episodes \n",
    "    \n",
    "    # generate an episode using pi\n",
    "    biggest_change = 0\n",
    "    states_actions_returns = play_episode(pi)\n",
    "    \n",
    "    seen_state_action_pairs = set()\n",
    "    for s, a, G in states_actions_returns:\n",
    "        # check if we have already seen s\n",
    "        # called \"first-visit\" MC policy evaluation\n",
    "    \n",
    "        state_action = (s,a)\n",
    "        \n",
    "        if state_action not in seen_state_action_pairs:\n",
    "            \n",
    "            returns[s][a] += G\n",
    "            N[s][a] +=1\n",
    "            old_Q = Q[s][a]    \n",
    "            Q[s][a] = returns[s][a] /N[s][a] # Average reward across episodes\n",
    "            \n",
    "            biggest_change = max(biggest_change, np.abs(old_Q - Q[s][a]))\n",
    "            seen_state_action_pairs.add(state_action)\n",
    "              \n",
    "            #for each s in the episode         \n",
    "            A_star = np.argmax(Q[s])# Finding the action with maximum value        \n",
    "            for a in ALL_POSSIBLE_ACTIONS: # Update action probability for s_t in policy\n",
    "                if a == A_star:\n",
    "                    pi[(s,a)] = 1 - epsilon + (epsilon / len(ALL_POSSIBLE_ACTIONS))\n",
    "                else:\n",
    "                    pi[(s,a)] = (epsilon / len(ALL_POSSIBLE_ACTIONS))\n",
    "                     \n",
    "    \n",
    "    learning_rate *= 0.99\n",
    "    epsilon *= 0.99               \n",
    "    deltas.append(biggest_change)\n",
    "                  "
   ]
  },
  {
   "cell_type": "code",
   "execution_count": 18,
   "metadata": {},
   "outputs": [
    {
     "data": {
      "text/plain": [
       "array([[-3.39503070e+03, -3.58291120e+03, -2.08103223e+03],\n",
       "       [-8.50808535e+02, -3.00952709e+03, -3.06416498e+03],\n",
       "       [-3.91492639e+03, -1.40569272e+03, -3.51498671e+03],\n",
       "       [-1.00000000e+08, -1.00000000e+08, -1.83098324e+03]])"
      ]
     },
     "execution_count": 18,
     "metadata": {},
     "output_type": "execute_result"
    }
   ],
   "source": [
    "Q"
   ]
  },
  {
   "cell_type": "code",
   "execution_count": 19,
   "metadata": {},
   "outputs": [
    {
     "data": {
      "image/png": "[encoded data removed]",
      "text/plain": [
       "<Figure size 432x288 with 1 Axes>"
      ]
     },
     "metadata": {
      "needs_background": "light"
     },
     "output_type": "display_data"
    }
   ],
   "source": [
    "import matplotlib.pyplot as plt\n",
    "plt.plot(deltas)\n",
    "plt.show()"
   ]
  },
  {
   "cell_type": "code",
   "execution_count": 21,
   "metadata": {},
   "outputs": [
    {
     "name": "stdout",
     "output_type": "stream",
     "text": [
      "optimal degradation for repair= 8.301673852236808\n",
      "cost for repair = 421.86127116537693\n",
      "Time for repair = 10.853747714808044\n"
     ]
    }
   ],
   "source": [
    "\n",
    "optimal_value =[]\n",
    "current_state = 0 #it is new\n",
    "degradation = 0\n",
    "optimal_cost = []\n",
    "expected_optimal_cost=[]\n",
    "num=[]\n",
    "numm =[]\n",
    "\n",
    "        \n",
    "for j in range(2000+1):\n",
    "    #Choose A from S\n",
    "    action = np.argmax(Q[current_state])\n",
    "    if action == 1:\n",
    "        optimal_value.append(degradation) \n",
    "        num.append(j)\n",
    "    \n",
    "    numm =[3*num[i] - 3*num[i-1] for i in range(1, len(num))]\n",
    "    #print(num , numm)\n",
    "    # Take action\n",
    "    current_state, reward ,degradation= Envirenment(degradation,action)\n",
    "    optimal_cost.append(-reward)\n",
    "    #print(optimal_cost)\n",
    "    if any(np.array(optimal_cost) > 50):\n",
    "        expected_optimal_cost.append(np.mean(optimal_cost))\n",
    "    if action ==1:\n",
    "        optimal_cost = []\n",
    "    #print (reward ,degradation , action)\n",
    "    \n",
    "#print(optimal_value)\n",
    "#print(\".................\")\n",
    "#print(expected_optimal_cost)\n",
    "#print(\".................\")\n",
    "print(\"optimal degradation for repair=\",np.mean(optimal_value))\n",
    "#print(\".................\")\n",
    "print(\"cost for repair =\",np.mean(expected_optimal_cost))\n",
    "print(\"Time for repair =\",np.mean(numm))\n",
    "#print(\"Time for repair =\",numm)"
   ]
  },
  {
   "cell_type": "code",
   "execution_count": null,
   "metadata": {},
   "outputs": [],
   "source": []
  }
 ],
 "metadata": {
  "kernelspec": {
   "display_name": "Python 3",
   "language": "python",
   "name": "python3"
  },
  "language_info": {
   "codemirror_mode": {
    "name": "ipython",
    "version": 3
   },
   "file_extension": ".py",
   "mimetype": "text/x-python",
   "name": "python",
   "nbconvert_exporter": "python",
   "pygments_lexer": "ipython3",
   "version": "3.7.3"
  }
 },
 "nbformat": 4,
 "nbformat_minor": 2
}
