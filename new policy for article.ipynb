{
 "cells": [
  {
   "cell_type": "markdown",
   "metadata": {},
   "source": [
    "# Article code with 3 actions (DN, CM, PM)"
   ]
  },
  {
   "cell_type": "code",
   "execution_count": 1,
   "metadata": {},
   "outputs": [],
   "source": [
    "import numpy as np\n",
    "import random\n",
    "from random import sample\n",
    "import math "
   ]
  },
  {
   "cell_type": "code",
   "execution_count": 2,
   "metadata": {},
   "outputs": [],
   "source": [
    "z = 10 #Degradation threshold\n",
    "\n",
    "def state(amount):\n",
    "    new_state = []    \n",
    "    if (amount >= 0 and amount <3):\n",
    "        new_state = 0 # healthy1\n",
    "    \n",
    "    if (amount >= 3 and amount <7):\n",
    "        new_state = 1 # healthy2\n",
    "        \n",
    "    if (amount >= 7 and amount < z ):\n",
    "        new_state = 2 #healthy3 \n",
    "        \n",
    "    if (amount >= z):\n",
    "        new_state = 3 # fail\n",
    "    \n",
    "    return new_state"
   ]
  },
  {
   "cell_type": "code",
   "execution_count": 3,
   "metadata": {},
   "outputs": [],
   "source": [
    "def Rewardfun(degradation):\n",
    "    Reward=np.zeros((4,)+(3,))\n",
    "    Reward[: , 0] = -50 # inspection \n",
    "    Reward[3,0] = -1050 # inspection + CM\n",
    "    Reward[: , 1] = -550  # inspection + PM\n",
    "    Reward[3,1] = -1550   # inspection + CM + PM\n",
    "    Reward[: , 2] = -1050 # inspection + CM \n",
    "    Reward[3,2] = -1050 # inspection + CM \n",
    "    # notice that if we are in state 3, we just choose action 2  \n",
    "    return Reward"
   ]
  },
  {
   "cell_type": "code",
   "execution_count": 4,
   "metadata": {},
   "outputs": [],
   "source": [
    "a = 8\n",
    "\n",
    "def Envirenment(degradation , action):\n",
    "   \n",
    "    n2 = np.random.poisson((1-0.001)*4, 1) # number of effective shock\n",
    "    w2 = np.random.gamma(0.6, 1.2, n2) # magnitude of effective shock\n",
    "    magnitude = sum(w2)\n",
    "    next_state = 0\n",
    "    reward = 0\n",
    "    \n",
    "    if action == 0 :#do nothing\n",
    "        \n",
    "            degradation += (magnitude + 3)/a\n",
    "            next_state=state(degradation)\n",
    "            Reward=Rewardfun(degradation)\n",
    "            reward=Reward[next_state,action]\n",
    "        \n",
    "    if action == 1 :#PM\n",
    "        \n",
    "           # decay = degradation*np.random.beta(0.5, 1, 1)\n",
    "            #decay = degradation/z\n",
    "            #degradation -= decay*degradation\n",
    "            degradation = (magnitude + 2.85)/a #replace due to PM\n",
    "            next_state=state(degradation)\n",
    "            Reward=Rewardfun(degradation)\n",
    "            reward=Reward[next_state,action]\n",
    "                    \n",
    "    if action == 2 : # CM \n",
    "        \n",
    "            degradation = (magnitude + 2.65)/a\n",
    "            next_state=state(degradation)\n",
    "            Reward=Rewardfun(degradation)\n",
    "            reward=Reward[next_state,action]\n",
    "       \n",
    "    \n",
    "    return next_state , reward , degradation"
   ]
  },
  {
   "cell_type": "code",
   "execution_count": 12,
   "metadata": {},
   "outputs": [],
   "source": [
    "def choose_action(epsilon,current_state):\n",
    "    if current_state == 3 :\n",
    "        return 2 #CM\n",
    "    else:\n",
    "        if (np.random.random() < epsilon):\n",
    "            return random.choice([0,1]) # we just choose PM and DN  \n",
    "        else:\n",
    "            return np.argmax(Q_table[current_state])"
   ]
  },
  {
   "cell_type": "code",
   "execution_count": 13,
   "metadata": {},
   "outputs": [],
   "source": [
    "num_episodes=2000\n",
    "discount=0.88"
   ]
  },
  {
   "cell_type": "code",
   "execution_count": 14,
   "metadata": {},
   "outputs": [],
   "source": [
    "epsilon = 1\n",
    "learning_rate = 1\n",
    "\n",
    "Q_table = np.zeros((4, ) + (3,))\n",
    "\n",
    "Q_table[3,0]= -100000000\n",
    "Q_table[3,1]= -100000000\n",
    "scores = []\n",
    "# Looping for each episode\n",
    "for e in range(3000):\n",
    "    # Initializes the state\n",
    "    current_state = 0 #it is new\n",
    "    degradation = 0  #it is new\n",
    "    rewards = []\n",
    "       \n",
    "    # Looping for each step\n",
    "    for j in range(50 +1):\n",
    "        # Choose A from S\n",
    "        action = choose_action2(epsilon,current_state)\n",
    "        # Take action\n",
    "        obs , reward , degradation  = Envirenment(degradation,action)\n",
    "        rewards.append(reward)\n",
    "        new_state = obs\n",
    "        # Update Q(S,A)\n",
    "        Q_table[current_state][action] += (learning_rate * \n",
    "                                        (reward \n",
    "                                         + discount * np.max(Q_table[new_state]) \n",
    "                                         - Q_table[current_state][action]))\n",
    "        current_state = new_state\n",
    "        \n",
    "    learning_rate *= 0.99\n",
    "    epsilon *= 0.99\n",
    "    scores.append(sum(rewards))"
   ]
  },
  {
   "cell_type": "code",
   "execution_count": 15,
   "metadata": {},
   "outputs": [
    {
     "data": {
      "image/png": "[encoded data removed]",
      "text/plain": [
       "<Figure size 432x288 with 1 Axes>"
      ]
     },
     "metadata": {
      "needs_background": "light"
     },
     "output_type": "display_data"
    }
   ],
   "source": [
    "# Plot the policy performance\n",
    "import matplotlib.pyplot as plt\n",
    "fig = plt.figure()\n",
    "ax = fig.add_subplot(111)\n",
    "x = np.arange(1, len(scores) + 1)\n",
    "y = scores\n",
    "plt.scatter(x, y, marker='x', c=y)\n",
    "plt.ylabel('Score')\n",
    "plt.xlabel('Episode #')\n",
    "plt.title(' performance ')\n",
    "plt.show()"
   ]
  },
  {
   "cell_type": "code",
   "execution_count": 16,
   "metadata": {},
   "outputs": [
    {
     "name": "stdout",
     "output_type": "stream",
     "text": [
      "-50.0 0.828767483034077 0\n",
      "-50.0 1.2704948035842585 0\n",
      "-50.0 1.6890578871919035 0\n",
      "-50.0 2.6708479565781973 0\n",
      "-50.0 4.254830129442343 0\n",
      "-50.0 4.887859724990112 0\n",
      "-50.0 5.476187733243006 0\n",
      "-50.0 6.393757292330217 0\n",
      "-50.0 7.090070060348911 0\n",
      "-550.0 0.3828096995909446 1\n",
      "-50.0 0.9272982619223845 0\n",
      "-50.0 1.7420521918499738 0\n",
      "-50.0 2.4783298618360776 0\n",
      "-50.0 3.192583257737253 0\n",
      "-50.0 3.6273700154440958 0\n",
      "-50.0 4.695311858165303 0\n",
      "-50.0 5.21224734851561 0\n",
      "-50.0 6.303167705601618 0\n",
      "-50.0 6.79863595502481 0\n",
      "-50.0 7.894568638850611 0\n",
      "-550.0 0.39758865261907916 1\n",
      "[7.090070060348911, 7.894568638850611]\n",
      "[100.0, 95.45454545454545]\n",
      "optimal degradation for repair= 7.492319349599761\n",
      "cost for repair = 97.72727272727272\n"
     ]
    }
   ],
   "source": [
    "optimal_value =[]\n",
    "current_state = 0 #it is new\n",
    "degradation = 0\n",
    "optimal_cost = []\n",
    "expected_optimal_cost=[]\n",
    "\n",
    "for j in range(20+1):\n",
    "     #Choose A from S\n",
    "    action = np.argmax(Q_table[current_state])\n",
    "    if action == 1:\n",
    "        optimal_value.append(degradation)    \n",
    "    # Take action\n",
    "    current_state, reward ,degradation = Envirenment(degradation,action)\n",
    "    optimal_cost.append(-reward)\n",
    "    #print(optimal_cost)\n",
    "    if any(np.array(optimal_cost) > 50):\n",
    "        expected_optimal_cost.append(np.mean(optimal_cost))\n",
    "    if action ==1:\n",
    "          optimal_cost = []\n",
    "    print (reward ,degradation , action)\n",
    "\n",
    "print(optimal_value)\n",
    "print(expected_optimal_cost)\n",
    "print(\"optimal degradation for repair=\",np.mean(optimal_value))\n",
    "print(\"cost for repair =\",np.mean(expected_optimal_cost))"
   ]
  },
  {
   "cell_type": "markdown",
   "metadata": {},
   "source": [
    "# QL"
   ]
  },
  {
   "cell_type": "code",
   "execution_count": 17,
   "metadata": {},
   "outputs": [],
   "source": [
    "epsilon = 1\n",
    "learning_rate = 1\n",
    "\n",
    "Q_table = np.zeros((4, ) + (3,))\n",
    "old_Q = 0\n",
    "Q_table[3,0]= -100000000\n",
    "Q_table[3,1]= -100000000\n",
    "scores = []\n",
    "deltas = []\n",
    "\n",
    "# Looping for each episode\n",
    "for e in range(1000):\n",
    "    # Initializes the state\n",
    "    current_state = 0 #it is new\n",
    "    degradation = 0  #it is new\n",
    "    rewards = []\n",
    "    biggest_change = 0\n",
    "       \n",
    "    # Looping for each step\n",
    "    for j in range(50 +1):\n",
    "        # Choose A from S\n",
    "        action = choose_action(epsilon,current_state)\n",
    "        # Take action\n",
    "        obs , reward , degradation  = Envirenment(degradation,action)\n",
    "        rewards.append(reward)\n",
    "        new_state = obs\n",
    "        \n",
    "        old_Q = Q_table[current_state][action] \n",
    "        # Update Q(S,A)\n",
    "        Q_table[current_state][action] += (learning_rate * \n",
    "                                        (reward \n",
    "                                         + discount * np.max(Q_table[new_state]) \n",
    "                                         - Q_table[current_state][action]))\n",
    "        \n",
    "        biggest_change = max(biggest_change, np.abs(old_Q - Q_table[current_state][action]))\n",
    "        current_state = new_state\n",
    "        \n",
    "    learning_rate *= 0.99\n",
    "    epsilon *= 0.99\n",
    "    scores.append(sum(rewards))\n",
    "    deltas.append(biggest_change)"
   ]
  },
  {
   "cell_type": "code",
   "execution_count": 18,
   "metadata": {},
   "outputs": [
    {
     "data": {
      "image/png": "[encoded data removed]",
      "text/plain": [
       "<Figure size 432x288 with 1 Axes>"
      ]
     },
     "metadata": {
      "needs_background": "light"
     },
     "output_type": "display_data"
    }
   ],
   "source": [
    "# Plot the policy performance\n",
    "import matplotlib.pyplot as plt\n",
    "fig = plt.figure()\n",
    "ax = fig.add_subplot(111)\n",
    "x = np.arange(1, len(scores) + 1)\n",
    "y = scores\n",
    "plt.scatter(x, y, marker='x', c=y)\n",
    "plt.ylabel('Score')\n",
    "plt.xlabel('Episode #')\n",
    "plt.title(' performance of QL')\n",
    "plt.show()"
   ]
  },
  {
   "cell_type": "code",
   "execution_count": 19,
   "metadata": {},
   "outputs": [
    {
     "data": {
      "image/png": "[encoded data removed]",
      "text/plain": [
       "<Figure size 432x288 with 1 Axes>"
      ]
     },
     "metadata": {
      "needs_background": "light"
     },
     "output_type": "display_data"
    }
   ],
   "source": [
    "import matplotlib.pyplot as plt\n",
    "plt.plot(deltas)\n",
    "plt.show()"
   ]
  },
  {
   "cell_type": "code",
   "execution_count": 20,
   "metadata": {},
   "outputs": [
    {
     "name": "stdout",
     "output_type": "stream",
     "text": [
      "optimal degradation for repair= 7.407939842754047\n",
      ".................\n",
      "cost for repair = 99.5028333489872\n"
     ]
    }
   ],
   "source": [
    "optimal_value =[]\n",
    "current_state = 0 #it is new\n",
    "degradation = 0\n",
    "optimal_cost = []\n",
    "expected_optimal_cost=[]\n",
    "\n",
    "for j in range(2000+1):\n",
    "     #Choose A from S\n",
    "    action = np.argmax(Q_table[current_state])\n",
    "    if action == 1:\n",
    "        optimal_value.append(degradation)    \n",
    "    # Take action\n",
    "    current_state, reward ,degradation = Envirenment(degradation,action)\n",
    "    optimal_cost.append(-reward)\n",
    "    #print(optimal_cost)\n",
    "    if any(np.array(optimal_cost) > 50):\n",
    "        expected_optimal_cost.append(np.mean(optimal_cost))\n",
    "    if action ==1:\n",
    "          optimal_cost = []\n",
    "    #print (reward ,degradation , action)\n",
    "\n",
    "#print(optimal_value)\n",
    "#print(\".................\")\n",
    "#print(expected_optimal_cost)\n",
    "#print(\".................\")\n",
    "print(\"optimal degradation for repair=\",np.mean(optimal_value))\n",
    "print(\".................\")\n",
    "print(\"cost for repair =\",np.mean(expected_optimal_cost))"
   ]
  },
  {
   "cell_type": "code",
   "execution_count": null,
   "metadata": {},
   "outputs": [],
   "source": []
  },
  {
   "cell_type": "markdown",
   "metadata": {},
   "source": [
    "# SARSA"
   ]
  },
  {
   "cell_type": "code",
   "execution_count": 21,
   "metadata": {},
   "outputs": [],
   "source": [
    "epsilon = 1\n",
    "learning_rate = 1\n",
    "\n",
    "Q_table = np.zeros((4, ) + (3,))\n",
    "old_Q = 0\n",
    "\n",
    "Q_table[3,0]= -100000000\n",
    "Q_table[3,1]= -100000000\n",
    "scores = []\n",
    "deltas = []\n",
    "# Looping for each episode\n",
    "for e in range(1000):\n",
    "    # Initializes the state\n",
    "    current_state = 0 #it is new\n",
    "    degradation = 0  #it is new\n",
    "    action = choose_action(epsilon,current_state)\n",
    "    rewards = []\n",
    "    biggest_change = 0   \n",
    "    # Looping for each step\n",
    "    for j in range(50 +1):\n",
    "        # Take one step in the environment\n",
    "        next_state , reward , degradation  = Envirenment(degradation,action)\n",
    "        \n",
    "        # choose the next action (needed for the SARSA update)\n",
    "        next_action = choose_action(epsilon, next_state)\n",
    "        \n",
    "        rewards.append(reward)\n",
    "        old_Q = Q_table[current_state][action]\n",
    "        # SARSA Update\n",
    "        Q_table[current_state][action] += (learning_rate * \n",
    "                                        (reward \n",
    "                                         + discount * Q_table[next_state][next_action]\n",
    "                                         - Q_table[current_state][action]))\n",
    "        \n",
    "        biggest_change = max(biggest_change, np.abs(old_Q - Q_table[current_state][action]))\n",
    "        \n",
    "        current_state = next_state\n",
    "        action = next_action\n",
    "        \n",
    "    learning_rate *= 0.99\n",
    "    epsilon *= 0.99\n",
    "    scores.append(sum(rewards))\n",
    "    deltas.append(biggest_change)"
   ]
  },
  {
   "cell_type": "code",
   "execution_count": 22,
   "metadata": {},
   "outputs": [
    {
     "data": {
      "image/png": "[encoded data removed]",
      "text/plain": [
       "<Figure size 432x288 with 1 Axes>"
      ]
     },
     "metadata": {
      "needs_background": "light"
     },
     "output_type": "display_data"
    }
   ],
   "source": [
    "# Plot the policy performance\n",
    "import matplotlib.pyplot as plt\n",
    "fig = plt.figure()\n",
    "ax = fig.add_subplot(111)\n",
    "x = np.arange(1, len(scores) + 1)\n",
    "y = scores\n",
    "plt.scatter(x, y, marker='x', c=y)\n",
    "plt.ylabel('Score')\n",
    "plt.xlabel('Episode #')\n",
    "plt.title(' performance of SARSA ')\n",
    "plt.show()"
   ]
  },
  {
   "cell_type": "code",
   "execution_count": 23,
   "metadata": {},
   "outputs": [
    {
     "data": {
      "image/png": "[encoded data removed]",
      "text/plain": [
       "<Figure size 432x288 with 1 Axes>"
      ]
     },
     "metadata": {
      "needs_background": "light"
     },
     "output_type": "display_data"
    }
   ],
   "source": [
    "import matplotlib.pyplot as plt\n",
    "plt.plot(deltas)\n",
    "plt.show()"
   ]
  },
  {
   "cell_type": "code",
   "execution_count": 24,
   "metadata": {},
   "outputs": [
    {
     "name": "stdout",
     "output_type": "stream",
     "text": [
      "optimal degradation for repair= 7.43295231419444\n",
      ".................\n",
      "cost for repair = 100.69967720721489\n"
     ]
    }
   ],
   "source": [
    "optimal_value =[]\n",
    "current_state = 0 #it is new\n",
    "degradation = 0\n",
    "optimal_cost = []\n",
    "expected_optimal_cost=[]\n",
    "\n",
    "for j in range(2000+1):\n",
    "     #Choose A from S\n",
    "    action = np.argmax(Q_table[current_state])\n",
    "    if action == 1:\n",
    "        optimal_value.append(degradation)    \n",
    "    # Take action\n",
    "    current_state, reward ,degradation = Envirenment(degradation,action)\n",
    "    optimal_cost.append(-reward)\n",
    "    #print(optimal_cost)\n",
    "    if any(np.array(optimal_cost) > 50):\n",
    "        expected_optimal_cost.append(np.mean(optimal_cost))\n",
    "    if action ==1:\n",
    "          optimal_cost = []\n",
    "    #print (reward ,degradation , action)\n",
    "\n",
    "#print(optimal_value)\n",
    "##print(\".................\")\n",
    "#print(expected_optimal_cost)\n",
    "#print(\".................\")\n",
    "print(\"optimal degradation for repair=\",np.mean(optimal_value))\n",
    "print(\".................\")\n",
    "print(\"cost for repair =\",np.mean(expected_optimal_cost))"
   ]
  },
  {
   "cell_type": "code",
   "execution_count": null,
   "metadata": {},
   "outputs": [],
   "source": []
  },
  {
   "cell_type": "markdown",
   "metadata": {},
   "source": [
    "# MCRL"
   ]
  },
  {
   "cell_type": "code",
   "execution_count": 25,
   "metadata": {},
   "outputs": [],
   "source": [
    "ALL_POSSIBLE_ACTIONS = [0,1,2]\n",
    "def policy_using_pi(St, pi):\n",
    "    return np.random.choice(ALL_POSSIBLE_ACTIONS, p=[pi[(St,a)] for a in ALL_POSSIBLE_ACTIONS])"
   ]
  },
  {
   "cell_type": "code",
   "execution_count": 26,
   "metadata": {},
   "outputs": [],
   "source": [
    "def choose_action(current_state, pi):\n",
    "    if current_state == 3 :\n",
    "        return 2 #CM\n",
    "    else:\n",
    "        return policy_using_pi(current_state, pi)  #epsilon_soft       "
   ]
  },
  {
   "cell_type": "code",
   "execution_count": 27,
   "metadata": {},
   "outputs": [],
   "source": [
    "GAMMA =  0.9\n",
    "def play_episode(pi):\n",
    "    #S0,A0,R1,S1,A1,R2,S2,A2,R3 ,...\n",
    "    s = 0 #it is new\n",
    "    d = 0 #it is new\n",
    "    a= choose_action(s, pi)\n",
    "    \n",
    "    #r(t) results from taking action a(t-1) from s(t-1) and landing in s(t)\n",
    "    states_actions_rewards = [((s, a, 0))]\n",
    "    \n",
    "    for j in range(50 +1):\n",
    "    \n",
    "        s , r ,d  = Envirenment(d,a)\n",
    "        if (j == 50):\n",
    "            states_actions_rewards.append((s, None, r))\n",
    "        else:\n",
    "            a= choose_action(s, pi)\n",
    "            states_actions_rewards.append((s,a, r))\n",
    "            \n",
    "    \n",
    "     # calculate the returns by working backwards from the terminal state\n",
    "    G = 0\n",
    "    states_actions_returns = []\n",
    "    first = True\n",
    "    for s, a, r in reversed(states_actions_rewards):\n",
    "        \n",
    "       # the value of the terminal state is 0 by definition\n",
    "       # we should ignore the first state we encounter\n",
    "        # and ignore the last G, which is meaningless since it doesn't correspond to any move\n",
    "        if first:\n",
    "            first = False\n",
    "        else:\n",
    "            states_actions_returns.append((s, a, G))\n",
    "        G = r + GAMMA*G\n",
    "    \n",
    "    return states_actions_returns \n"
   ]
  },
  {
   "cell_type": "code",
   "execution_count": 33,
   "metadata": {},
   "outputs": [
    {
     "name": "stderr",
     "output_type": "stream",
     "text": [
      "C:\\Users\\ARYA\\Anaconda3\\lib\\site-packages\\ipykernel_launcher.py:30: RuntimeWarning: divide by zero encountered in double_scalars\n",
      "C:\\Users\\ARYA\\Anaconda3\\lib\\site-packages\\ipykernel_launcher.py:30: RuntimeWarning: divide by zero encountered in true_divide\n",
      "C:\\Users\\ARYA\\Anaconda3\\lib\\site-packages\\ipykernel_launcher.py:23: RuntimeWarning: divide by zero encountered in double_scalars\n",
      "C:\\Users\\ARYA\\Anaconda3\\lib\\site-packages\\ipykernel_launcher.py:13: RuntimeWarning: divide by zero encountered in double_scalars\n",
      "  del sys.path[0]\n"
     ]
    }
   ],
   "source": [
    "from collections import defaultdict\n",
    "epsilon = 1\n",
    "learning_rate = 1\n",
    "pi = defaultdict(lambda: 1/len(ALL_POSSIBLE_ACTIONS))\n",
    "Q = np.zeros((4, ) + (3,))\n",
    "old_Q = 0 \n",
    "\n",
    "Q[3,0]= -100000000\n",
    "Q[3,1]= -100000000\n",
    "\n",
    "returns =np.zeros((4,) + (3,))\n",
    "N = np.zeros((4 ,) + (3,))\n",
    "\n",
    "deltas = []\n",
    "\n",
    "\n",
    "for epi in range(100 +1):# Looping through episodes \n",
    "    \n",
    "    # generate an episode using pi\n",
    "    biggest_change = 0\n",
    "    states_actions_returns = play_episode(pi)\n",
    "    \n",
    "    seen_state_action_pairs = set()\n",
    "    for s, a, G in states_actions_returns:\n",
    "        # check if we have already seen s\n",
    "        # called \"first-visit\" MC policy evaluation\n",
    "    \n",
    "        state_action = (s,a)\n",
    "        \n",
    "        if state_action not in seen_state_action_pairs:\n",
    "            \n",
    "            returns[s][a] += G\n",
    "            N[s][a] +=1\n",
    "            old_Q = Q[s][a]    \n",
    "            Q[s][a] = returns[s][a] /N[s][a] # Average reward across episodes\n",
    "            \n",
    "            biggest_change = max(biggest_change, np.abs(old_Q - Q[s][a]))\n",
    "            seen_state_action_pairs.add(state_action)\n",
    "              \n",
    "            #for each s in the episode         \n",
    "            A_star = np.argmax(Q[s])# Finding the action with maximum value        \n",
    "            for a in ALL_POSSIBLE_ACTIONS: # Update action probability for s_t in policy\n",
    "                if a == A_star:\n",
    "                    pi[(s,a)] = 1 - epsilon + (epsilon / len(ALL_POSSIBLE_ACTIONS))\n",
    "                else:\n",
    "                    pi[(s,a)] = (epsilon / len(ALL_POSSIBLE_ACTIONS))\n",
    "                     \n",
    "    \n",
    "    learning_rate *= 0.99\n",
    "    epsilon *= 0.99               \n",
    "    deltas.append(biggest_change)\n",
    "                  "
   ]
  },
  {
   "cell_type": "code",
   "execution_count": 34,
   "metadata": {},
   "outputs": [
    {
     "data": {
      "image/png": "[encoded data removed]",
      "text/plain": [
       "<Figure size 432x288 with 1 Axes>"
      ]
     },
     "metadata": {
      "needs_background": "light"
     },
     "output_type": "display_data"
    }
   ],
   "source": [
    "import matplotlib.pyplot as plt\n",
    "plt.plot(deltas)\n",
    "plt.show()"
   ]
  },
  {
   "cell_type": "code",
   "execution_count": 35,
   "metadata": {},
   "outputs": [
    {
     "name": "stdout",
     "output_type": "stream",
     "text": [
      "[]\n",
      ".................\n",
      "[1050.0, 1050.0, 1050.0, 1050.0, 1050.0, 1050.0, 1050.0, 1050.0, 1050.0, 1050.0, 1050.0, 1050.0, 1050.0, 1050.0, 1050.0, 1050.0, 1050.0, 1050.0, 1050.0, 1050.0, 1050.0]\n",
      ".................\n",
      "optimal degradation for repair= nan\n",
      ".................\n",
      "cost for repair = 1050.0\n"
     ]
    },
    {
     "name": "stderr",
     "output_type": "stream",
     "text": [
      "C:\\Users\\ARYA\\Anaconda3\\lib\\site-packages\\ipykernel_launcher.py:13: RuntimeWarning: divide by zero encountered in double_scalars\n",
      "  del sys.path[0]\n",
      "C:\\Users\\ARYA\\Anaconda3\\lib\\site-packages\\ipykernel_launcher.py:30: RuntimeWarning: divide by zero encountered in double_scalars\n"
     ]
    }
   ],
   "source": [
    "optimal_value =[]\n",
    "current_state = 0 #it is new\n",
    "degradation = 0\n",
    "optimal_cost = []\n",
    "expected_optimal_cost=[]\n",
    "\n",
    "for j in range(20+1):\n",
    "     #Choose A from S\n",
    "    action = np.argmax(Q[current_state])\n",
    "    if action == 1:\n",
    "        optimal_value.append(degradation)    \n",
    "    # Take action\n",
    "    current_state, reward ,degradation = Envirenment(degradation,action)\n",
    "    optimal_cost.append(-reward)\n",
    "    #print(optimal_cost)\n",
    "    if any(np.array(optimal_cost) > 50):\n",
    "        expected_optimal_cost.append(np.mean(optimal_cost))\n",
    "    if action ==1:\n",
    "          optimal_cost = []\n",
    "    #print (reward ,degradation , action)\n",
    "\n",
    "print(optimal_value)\n",
    "print(\".................\")\n",
    "print(expected_optimal_cost)\n",
    "print(\".................\")\n",
    "print(\"optimal degradation for repair=\",np.mean(optimal_value))\n",
    "print(\".................\")\n",
    "print(\"cost for repair =\",np.mean(expected_optimal_cost))"
   ]
  },
  {
   "cell_type": "code",
   "execution_count": null,
   "metadata": {},
   "outputs": [],
   "source": []
  }
 ],
 "metadata": {
  "kernelspec": {
   "display_name": "Python 3",
   "language": "python",
   "name": "python3"
  },
  "language_info": {
   "codemirror_mode": {
    "name": "ipython",
    "version": 3
   },
   "file_extension": ".py",
   "mimetype": "text/x-python",
   "name": "python",
   "nbconvert_exporter": "python",
   "pygments_lexer": "ipython3",
   "version": "3.7.3"
  }
 },
 "nbformat": 4,
 "nbformat_minor": 2
}
