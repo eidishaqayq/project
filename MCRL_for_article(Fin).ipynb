{
 "cells": [
  {
   "cell_type": "markdown",
   "metadata": {
    "id": "5m2u2HZ4T64e"
   },
   "source": [
    "# MCRL for article"
   ]
  },
  {
   "cell_type": "code",
   "execution_count": 1,
   "metadata": {
    "id": "X20KoE6dT64j"
   },
   "outputs": [],
   "source": [
    "import numpy as np\n",
    "import random\n",
    "import math "
   ]
  },
  {
   "cell_type": "code",
   "execution_count": 2,
   "metadata": {
    "id": "7l8UBe-FT64l"
   },
   "outputs": [],
   "source": [
    "z = 10 #Degradation threshold\n",
    "\n",
    "def state(amount):\n",
    "    new_state = []    \n",
    "    if (amount >= 0 and amount <2):\n",
    "        new_state = 0 # healthy1\n",
    "    \n",
    "    if (amount >= 2 and amount <7):\n",
    "        new_state = 1 # healthy2\n",
    "        \n",
    "    if (amount >= 7 and amount < z ):\n",
    "        new_state = 2 #healthy3 \n",
    "        \n",
    "    if (amount >= z):\n",
    "        new_state = 3 # fail\n",
    "    \n",
    "    return new_state"
   ]
  },
  {
   "cell_type": "code",
   "execution_count": 3,
   "metadata": {
    "id": "fd6WG21PT64n"
   },
   "outputs": [],
   "source": [
    "def Rewardfun(degradation):\n",
    "    Reward=np.zeros((4,)+(3,))\n",
    "    Reward[: , 0] = -50\n",
    "    Reward[3,0] = -1050\n",
    "    Reward[: , 1] = -500*(degradation/z)-50\n",
    "    Reward[3,1] = -1150\n",
    "    Reward[: , 2] = -550\n",
    "    Reward[3,2] = -1550\n",
    "       \n",
    "    return Reward"
   ]
  },
  {
   "cell_type": "code",
   "execution_count": 4,
   "metadata": {
    "id": "UW0WsiK2T64q"
   },
   "outputs": [],
   "source": [
    "def possible_action(state):\n",
    "    if state == 0 :\n",
    "        return [0,1]\n",
    "    if state == 1 :\n",
    "        return [0,1,2]\n",
    "    if state == 2:\n",
    "        return [0,1,2]\n",
    "    if state == 3:\n",
    "        return [2]"
   ]
  },
  {
   "cell_type": "code",
   "execution_count": 5,
   "metadata": {
    "colab": {
     "base_uri": "https://localhost:8080/"
    },
    "id": "bJvHiZxlT64r",
    "outputId": "1e982476-9666-4b4b-da7f-237dc483e54b"
   },
   "outputs": [
    {
     "data": {
      "text/plain": [
       "[2]"
      ]
     },
     "execution_count": 5,
     "metadata": {},
     "output_type": "execute_result"
    }
   ],
   "source": [
    "possible_action(3)"
   ]
  },
  {
   "cell_type": "code",
   "execution_count": 6,
   "metadata": {
    "colab": {
     "base_uri": "https://localhost:8080/"
    },
    "id": "NfpaC0e0T64t",
    "outputId": "51e270ef-c58f-4666-c8db-226b6f0a0cc6"
   },
   "outputs": [
    {
     "data": {
      "text/plain": [
       "3"
      ]
     },
     "execution_count": 6,
     "metadata": {},
     "output_type": "execute_result"
    }
   ],
   "source": [
    "len(possible_action(2))"
   ]
  },
  {
   "cell_type": "code",
   "execution_count": 95,
   "metadata": {
    "id": "80dUqLrjT64v"
   },
   "outputs": [],
   "source": [
    "def Envirenment(degradation , action,a):\n",
    "   \n",
    "    n2 = np.random.poisson((1-0.001)*4, 1) # number of effective shock\n",
    "    w2 = np.random.gamma(0.6, 1.2, n2) # magnitude of effective shock\n",
    "    magnitude = sum(w2)\n",
    "    next_state = 0\n",
    "    reward = 0\n",
    "    current_state = state(degradation)\n",
    "    if action == 0 :#do nothing\n",
    "        \n",
    "            degradation += (magnitude + 3)/a\n",
    "            next_state=state(degradation)\n",
    "            Reward=Rewardfun(degradation)\n",
    "            reward=Reward[current_state ,action]\n",
    "        \n",
    "    if action == 1 : #repair\n",
    "        \n",
    "            #decay = np.random.beta(0.5, 0.5, 1)[0]\n",
    "            decay = degradation / z\n",
    "            #degradation -= decay*degradation\n",
    "            degradation = np.max((0.05, degradation))\n",
    "            #decay = (np.random.gamma(degradation*degradation/2,2/(degradation),1)/z)[0]\n",
    "            degradation -= np.max((0, decay*degradation))\n",
    "            #degradation =  decay*degradation\n",
    "            degradation = np.max((0.05, degradation))\n",
    "            degradation += (magnitude + 2.95)/a\n",
    "            next_state=state(degradation)\n",
    "            Reward=Rewardfun(degradation)\n",
    "            reward=Reward[current_state ,action]\n",
    "                    \n",
    "    if action == 2 : # replace\n",
    "        \n",
    "            degradation = (magnitude + 2.85)/a\n",
    "            next_state=state(degradation)\n",
    "            Reward=Rewardfun(degradation)\n",
    "            reward=Reward[current_state ,action]\n",
    "       \n",
    "    \n",
    "    return next_state , reward , degradation\n"
   ]
  },
  {
   "cell_type": "code",
   "execution_count": 96,
   "metadata": {
    "colab": {
     "base_uri": "https://localhost:8080/"
    },
    "id": "lWjJ0bIuT64w",
    "outputId": "9762e960-1446-4109-b8d3-60f7f7c1288a"
   },
   "outputs": [
    {
     "data": {
      "text/plain": [
       "(1, -175.63998142855547, 2.5127996285711096)"
      ]
     },
     "execution_count": 96,
     "metadata": {},
     "output_type": "execute_result"
    }
   ],
   "source": [
    "Envirenment(6.929383290900782 , 1,8)"
   ]
  },
  {
   "cell_type": "markdown",
   "metadata": {
    "id": "9rlFTSUbT64x"
   },
   "source": [
    "# pi function "
   ]
  },
  {
   "cell_type": "code",
   "execution_count": 97,
   "metadata": {
    "id": "Pw45yW2fT64y"
   },
   "outputs": [],
   "source": [
    "def policy_using_pi(state, pi):\n",
    "    return np.random.choice(possible_action(state), p=[pi[(state,a)] for a in possible_action(state)])"
   ]
  },
  {
   "cell_type": "code",
   "execution_count": 98,
   "metadata": {
    "id": "-Rq3ZE6QT640"
   },
   "outputs": [],
   "source": [
    "#np.zeros((4,3))\n",
    "#np.array([[0.5,0.5,0],[0.33,0.34,0.33],[0.33,0.33,0.34],[0,0,1]])\n",
    "pi = np.array([[0.7,0.3,0],[0.34,0.33,0.33],[0.33,0.34,0.33],[0,0,1]])"
   ]
  },
  {
   "cell_type": "code",
   "execution_count": 99,
   "metadata": {
    "colab": {
     "base_uri": "https://localhost:8080/"
    },
    "id": "g0PaYGDhT640",
    "outputId": "b5fef36f-c3cc-4584-c575-c824c84fdde0"
   },
   "outputs": [
    {
     "data": {
      "text/plain": [
       "0"
      ]
     },
     "execution_count": 99,
     "metadata": {},
     "output_type": "execute_result"
    }
   ],
   "source": [
    "policy_using_pi(0, pi)"
   ]
  },
  {
   "cell_type": "code",
   "execution_count": 100,
   "metadata": {
    "id": "7OLAb6NWT641"
   },
   "outputs": [],
   "source": [
    "def choose_action(current_state, pi):\n",
    "    return policy_using_pi(current_state, pi)  #epsilon_soft       "
   ]
  },
  {
   "cell_type": "markdown",
   "metadata": {
    "id": "9F0_fH4fT643"
   },
   "source": [
    "# Episode Function"
   ]
  },
  {
   "cell_type": "code",
   "execution_count": 101,
   "metadata": {
    "id": "joTYizEtT643"
   },
   "outputs": [],
   "source": [
    "GAMMA =  0.5\n",
    "def play_episode(pi):\n",
    "    #S0,A0,R1,S1,A1,R2,S2,A2,R3 ,...\n",
    "    #s = 0 #it is new\n",
    "    #d = 0 #it is new\n",
    "    \n",
    "    d = np.random.uniform(0 , 10) #random\n",
    "    s = state(d)\n",
    "    a= choose_action(s, pi)\n",
    "    \n",
    "    #r(t) results from taking action a(t-1) from s(t-1) and landing in s(t)\n",
    "    states_actions_rewards = [((s, a, 0))]\n",
    "    \n",
    "    for j in range(100 +1):\n",
    "    \n",
    "        s , r ,d  = Envirenment(d,a,8)\n",
    "        if (j == 100):\n",
    "            states_actions_rewards.append((s, None, r))\n",
    "        else:\n",
    "            a= choose_action(s, pi)\n",
    "            states_actions_rewards.append((s,a, r))\n",
    "            \n",
    "    \n",
    "     # calculate the returns by working backwards from the terminal state\n",
    "    G = 0\n",
    "    states_actions_returns = []\n",
    "    first = True\n",
    "    for s, a, r in reversed(states_actions_rewards):\n",
    "        \n",
    "       # the value of the terminal state is 0 by definition\n",
    "       # we should ignore the first state we encounter\n",
    "        # and ignore the last G, which is meaningless since it doesn't correspond to any move\n",
    "        if first:\n",
    "            first = False\n",
    "        else:\n",
    "            states_actions_returns.append((s, a, G))\n",
    "        G = r + GAMMA*G\n",
    "    states_actions_returns.reverse()\n",
    "    return states_actions_returns \n"
   ]
  },
  {
   "cell_type": "code",
   "execution_count": 102,
   "metadata": {
    "id": "HSAtixOXT647"
   },
   "outputs": [],
   "source": [
    "#pi = np.array([[0.99,0.01,0],[0.34,0.33,0.33],[0.33,0.34,0.33],[0,0,1]])\n",
    "#play_episode_F(pi)"
   ]
  },
  {
   "cell_type": "code",
   "execution_count": 103,
   "metadata": {
    "id": "aER7gcsXT648"
   },
   "outputs": [],
   "source": [
    "#print(np.full((4,3), 0.5)) \n",
    "#print(np.zeros((4, ) + (3,)))"
   ]
  },
  {
   "cell_type": "code",
   "execution_count": 104,
   "metadata": {
    "id": "2UAAWnulT648"
   },
   "outputs": [],
   "source": [
    "def epsilon_rate(t):\n",
    "    \n",
    "    \"\"\"Gets value for learning rate. It declines as we advance in episodes.\"\"\"\n",
    "    # Learning rate also declines as we add more episodes\n",
    "    return max(minepsilon, min(1., 1. - math.log10((t + 1) / decay)))\n"
   ]
  },
  {
   "cell_type": "code",
   "execution_count": 105,
   "metadata": {
    "id": "bYPWKrB6T649"
   },
   "outputs": [],
   "source": [
    "minepsilon = 0.00001\n",
    "decay = 10"
   ]
  },
  {
   "cell_type": "code",
   "execution_count": 106,
   "metadata": {
    "colab": {
     "base_uri": "https://localhost:8080/"
    },
    "id": "Q_Z1BwjCT649",
    "outputId": "14382e33-9d46-4072-ca04-0d474b678f56"
   },
   "outputs": [
    {
     "data": {
      "text/plain": [
       "7.310370290337438"
      ]
     },
     "execution_count": 106,
     "metadata": {},
     "output_type": "execute_result"
    }
   ],
   "source": [
    "np.random.uniform(0 , 10)"
   ]
  },
  {
   "cell_type": "markdown",
   "metadata": {
    "id": "3f_yhZ-gT64-"
   },
   "source": [
    "# Run all episodes"
   ]
  },
  {
   "cell_type": "code",
   "execution_count": 107,
   "metadata": {
    "id": "O00sDMR6T64_"
   },
   "outputs": [],
   "source": [
    "def counter_state_action(counter_matrix, state_action):\n",
    "    counter_matrix[state_action] += 1\n",
    "    return counter_matrix"
   ]
  },
  {
   "cell_type": "code",
   "execution_count": 108,
   "metadata": {
    "id": "ioDF0T7WT64_"
   },
   "outputs": [],
   "source": [
    "counter_matrix = np.zeros((4,3))"
   ]
  },
  {
   "cell_type": "code",
   "execution_count": 109,
   "metadata": {
    "colab": {
     "base_uri": "https://localhost:8080/"
    },
    "id": "q-AcNKWAT65A",
    "outputId": "23db7910-ac98-4312-9e40-8120161fdd08"
   },
   "outputs": [
    {
     "data": {
      "text/plain": [
       "array([[0., 0., 0.],\n",
       "       [1., 0., 0.],\n",
       "       [0., 0., 0.],\n",
       "       [0., 0., 0.]])"
      ]
     },
     "execution_count": 109,
     "metadata": {},
     "output_type": "execute_result"
    }
   ],
   "source": [
    "counter_state_action(counter_matrix, (1,0))"
   ]
  },
  {
   "cell_type": "code",
   "execution_count": 110,
   "metadata": {
    "id": "Z3bGmxkQT65B"
   },
   "outputs": [],
   "source": [
    "epsilon = 1\n",
    "learning_rate = 1\n",
    "pi = np.array([[0.99,0.01,0],[0.34,0.33,0.33],[0.33,0.34,0.33],[0,0,1]])\n",
    "Q = np.zeros((4,3))\n",
    "old_Q = 0 \n",
    "\n",
    "counter_matrix = np.zeros((4,3))\n",
    "\n",
    "Q[3,0]= -100000000\n",
    "Q[3,1]= -100000000\n",
    "Q[0,2]= -100000000\n",
    "\n",
    "returns =np.zeros((4,3))\n",
    "N = np.zeros((4,3))\n",
    "\n",
    "deltas = []\n",
    "\n",
    "\n",
    "for epi in range(600 +1):# Looping through episodes \n",
    "    \n",
    "    # generate an episode using pi\n",
    "    biggest_change = 0\n",
    "    states_actions_returns = play_episode(pi)\n",
    "    \n",
    "    seen_state_action_pairs = set()\n",
    "    for s, a, G in states_actions_returns:\n",
    "        # check if we have already seen s\n",
    "        # called \"first-visit\" MC policy evaluation\n",
    "    \n",
    "        state_action = (s,a)\n",
    "        \n",
    "        if state_action not in seen_state_action_pairs:\n",
    "        #if 1 == 1:   \n",
    "            returns[s][a] += G\n",
    "            N[s][a] +=1\n",
    "            old_Q = Q[s][a]    \n",
    "            Q[s][a] = returns[s][a] /N[s][a] # Average reward across episodes\n",
    "            \n",
    "            biggest_change = max(biggest_change, np.abs(old_Q - Q[s][a]))\n",
    "            seen_state_action_pairs.add(state_action)\n",
    "            \n",
    "            counter_state_action(counter_matrix, state_action)\n",
    "              \n",
    "            #for each s in the episode         \n",
    "            A_star = np.argmax(Q[s])# Finding the action with maximum value \n",
    "            \n",
    "            for a in possible_action(s): # Update action probability \n",
    "                if a == A_star:\n",
    "                    pi[(s,a)] = 1 - epsilon + (epsilon / len(possible_action(s)))\n",
    "                else:\n",
    "                    pi[(s,a)] = (epsilon / len(possible_action(s)))\n",
    "                     \n",
    "    \n",
    "    learning_rate *= 0.99\n",
    "    epsilon *= 0.99  \n",
    "    #epsilon = epsilon_rate(epi)\n",
    "    #eps = epsilon - 0.0005\n",
    "    #epsilon = max (0, eps)\n",
    "    deltas.append(biggest_change)\n",
    "                  "
   ]
  },
  {
   "cell_type": "code",
   "execution_count": 111,
   "metadata": {
    "colab": {
     "base_uri": "https://localhost:8080/"
    },
    "id": "5PDp04b3T65C",
    "outputId": "51ff78e2-ae95-4505-a117-e2383f09c13b"
   },
   "outputs": [
    {
     "data": {
      "text/plain": [
       "array([[508., 211.,   0.],\n",
       "       [601., 382., 378.],\n",
       "       [109., 562., 122.],\n",
       "       [  0.,   0.,   8.]])"
      ]
     },
     "execution_count": 111,
     "metadata": {},
     "output_type": "execute_result"
    }
   ],
   "source": [
    "counter_matrix"
   ]
  },
  {
   "cell_type": "code",
   "execution_count": 112,
   "metadata": {
    "colab": {
     "base_uri": "https://localhost:8080/"
    },
    "id": "fklyV5DiT65D",
    "outputId": "bce29b73-4767-41fe-8918-30a4bc6584cc"
   },
   "outputs": [
    {
     "name": "stdout",
     "output_type": "stream",
     "text": [
      "0.0023809591983979563\n",
      "[[-1.24514102e+02 -2.35247753e+02 -1.00000000e+08]\n",
      " [-1.40342179e+02 -3.00623522e+02 -6.18276654e+02]\n",
      " [-2.59187267e+02 -2.43423195e+02 -6.15303436e+02]\n",
      " [-1.00000000e+08 -1.00000000e+08 -6.30321030e+02]]\n",
      "[[9.98797495e-01 1.20250465e-03 0.00000000e+00]\n",
      " [9.98396660e-01 8.01669764e-04 8.01669764e-04]\n",
      " [8.01669764e-04 9.98396660e-01 8.01669764e-04]\n",
      " [0.00000000e+00 0.00000000e+00 1.00000000e+00]]\n"
     ]
    }
   ],
   "source": [
    "print(epsilon)\n",
    "print (Q)\n",
    "print(pi)"
   ]
  },
  {
   "cell_type": "code",
   "execution_count": 113,
   "metadata": {
    "colab": {
     "base_uri": "https://localhost:8080/",
     "height": 267
    },
    "id": "V804mKYiT65E",
    "outputId": "12544543-c88a-4af9-d6f3-3949d219c49a"
   },
   "outputs": [
    {
     "data": {
      "image/png": "[encoded data removed]",
      "text/plain": [
       "<Figure size 640x480 with 1 Axes>"
      ]
     },
     "metadata": {},
     "output_type": "display_data"
    }
   ],
   "source": [
    "import matplotlib.pyplot as plt\n",
    "plt.plot(deltas)\n",
    "plt.show()"
   ]
  },
  {
   "cell_type": "code",
   "execution_count": 114,
   "metadata": {
    "colab": {
     "base_uri": "https://localhost:8080/"
    },
    "id": "s8mxqMFNT65F",
    "outputId": "9a460c83-bf49-47db-a766-a91a81fab52d"
   },
   "outputs": [
    {
     "name": "stdout",
     "output_type": "stream",
     "text": [
      "optimal degradation for repair= 7.446080802984566\n",
      "cost for repair = 67.9862474571701\n",
      "Time for repair = 22.556818181818183\n"
     ]
    }
   ],
   "source": [
    "optimal_value =[]\n",
    "current_state = 0 #it is new\n",
    "degradation = 0\n",
    "optimal_cost = []\n",
    "expected_optimal_cost=[]\n",
    "num=[]\n",
    "numm =[]\n",
    "\n",
    "        \n",
    "for j in range(2000+1):\n",
    "    #Choose A from S\n",
    "    action = np.argmax(Q[current_state])\n",
    "    if action == 1:\n",
    "        optimal_value.append(degradation) \n",
    "        num.append(j)\n",
    "    \n",
    "    numm =[3*num[i] - 3*num[i-1] for i in range(1, len(num))]\n",
    "    #print(num , numm)\n",
    "    # Take action\n",
    "    current_state, reward ,degradation_new = Envirenment(degradation,action,8)\n",
    "    optimal_cost.append(-reward)\n",
    "    #print (\"degradation =\" + str(degradation), \"action\"+ str(action),\n",
    "          #\"Reward\"+str(reward), \"new degradation =\" + str(degradation_new))\n",
    "    degradation = degradation_new\n",
    "    #print(optimal_cost)\n",
    "    #if any(np.array(optimal_cost) > 50) and any(np.array(optimal_cost) < 550) :\n",
    "        #expected_optimal_cost.append(np.mean(optimal_cost))\n",
    "    if any(np.array(optimal_cost) > 50):\n",
    "        expected_optimal_cost.append(np.mean(optimal_cost))\n",
    "    if action ==1:\n",
    "        optimal_cost = []\n",
    "    \n",
    "    \n",
    "#print(optimal_value)\n",
    "#print(\".................\")\n",
    "#print(expected_optimal_cost)\n",
    "#print(\".................\")\n",
    "print(\"optimal degradation for repair=\",np.mean(optimal_value))\n",
    "#print(\".................\")\n",
    "print(\"cost for repair =\",np.mean(expected_optimal_cost))\n",
    "print(\"Time for repair =\",np.mean(numm))\n",
    "#print(\"Time for repair =\",numm)"
   ]
  },
  {
   "cell_type": "code",
   "execution_count": 115,
   "metadata": {
    "id": "yiJcRWNCT65F"
   },
   "outputs": [
    {
     "name": "stdout",
     "output_type": "stream",
     "text": [
      "optimal degradation for repair= 7.464134925683656\n",
      "Time for repair = 22.575975\n",
      "cost for repair = 65.14198747728831\n"
     ]
    }
   ],
   "source": [
    "expected_optimal_cost=[]\n",
    "expected_optimal_time=[]\n",
    "\n",
    "for o in range(2000):\n",
    "    \n",
    "    optimal_value =[]\n",
    "    current_state = 0 #it is new\n",
    "    degradation = 0\n",
    "    optimal_cost = []\n",
    "    \n",
    "    num=[]\n",
    "    numm =[]\n",
    "\n",
    "    for j in range(50):\n",
    "        #Choose A from S\n",
    "        action = np.argmax(Q[current_state])\n",
    "        if action == 1:\n",
    "            optimal_value.append(degradation) \n",
    "            num.append(j)\n",
    "\n",
    "        numm =[3*num[i] - 3*num[i-1] for i in range(1, len(num))]\n",
    "        #print(num , numm)\n",
    "        # Take action\n",
    "        current_state, reward ,degradation= Envirenment(degradation,action,8)\n",
    "        optimal_cost.append(-reward)\n",
    "        #print(optimal_cost)\n",
    "        #if any(np.array(optimal_cost) > 50):\n",
    "            #expected_optimal_cost.append(np.mean(optimal_cost))\n",
    "        #if action ==1:\n",
    "            #optimal_cost = []\n",
    "        #print (reward ,degradation , action)\n",
    "        \n",
    "    expected_optimal_cost.append(np.mean(optimal_cost))\n",
    "    expected_optimal_time.append(np.mean(numm))\n",
    "print(\"optimal degradation for repair=\",np.mean(optimal_value))\n",
    "\n",
    "print(\"Time for repair =\",np.mean(expected_optimal_time))\n",
    "\n",
    "print(\"cost for repair =\",np.mean(expected_optimal_cost))"
   ]
  },
  {
   "cell_type": "code",
   "execution_count": null,
   "metadata": {
    "id": "Xz2l0_KMT65G"
   },
   "outputs": [],
   "source": []
  }
 ],
 "metadata": {
  "colab": {
   "provenance": []
  },
  "kernelspec": {
   "display_name": "Python 3 (ipykernel)",
   "language": "python",
   "name": "python3"
  },
  "language_info": {
   "codemirror_mode": {
    "name": "ipython",
    "version": 3
   },
   "file_extension": ".py",
   "mimetype": "text/x-python",
   "name": "python",
   "nbconvert_exporter": "python",
   "pygments_lexer": "ipython3",
   "version": "3.9.13"
  },
  "vscode": {
   "interpreter": {
    "hash": "70aec71e033848db72629643294f7dc1198c67b9697b9c5a6e5220685dfe73ba"
   }
  }
 },
 "nbformat": 4,
 "nbformat_minor": 1
}
